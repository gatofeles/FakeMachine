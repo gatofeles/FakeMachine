{
 "cells": [
  {
   "cell_type": "code",
   "execution_count": 16,
   "metadata": {},
   "outputs": [
    {
     "name": "stdout",
     "output_type": "stream",
     "text": [
      "Requirement already satisfied: numpy in d:\\repos\\scrapingtwitter\\venv\\lib\\site-packages (1.22.4)\n",
      "Note: you may need to restart the kernel to use updated packages.\n"
     ]
    },
    {
     "name": "stderr",
     "output_type": "stream",
     "text": [
      "WARNING: You are using pip version 22.0.4; however, version 22.1.2 is available.\n",
      "You should consider upgrading via the 'd:\\Repos\\scrapingTwitter\\venv\\Scripts\\python.exe -m pip install --upgrade pip' command.\n"
     ]
    },
    {
     "name": "stdout",
     "output_type": "stream",
     "text": [
      "Requirement already satisfied: pandas in d:\\repos\\scrapingtwitter\\venv\\lib\\site-packages (1.4.2)\n",
      "Requirement already satisfied: pytz>=2020.1 in d:\\repos\\scrapingtwitter\\venv\\lib\\site-packages (from pandas) (2022.1)\n",
      "Requirement already satisfied: python-dateutil>=2.8.1 in d:\\repos\\scrapingtwitter\\venv\\lib\\site-packages (from pandas) (2.8.2)\n",
      "Requirement already satisfied: numpy>=1.21.0 in d:\\repos\\scrapingtwitter\\venv\\lib\\site-packages (from pandas) (1.22.4)\n",
      "Requirement already satisfied: six>=1.5 in d:\\repos\\scrapingtwitter\\venv\\lib\\site-packages (from python-dateutil>=2.8.1->pandas) (1.16.0)\n",
      "Note: you may need to restart the kernel to use updated packages.\n"
     ]
    },
    {
     "name": "stderr",
     "output_type": "stream",
     "text": [
      "WARNING: You are using pip version 22.0.4; however, version 22.1.2 is available.\n",
      "You should consider upgrading via the 'd:\\Repos\\scrapingTwitter\\venv\\Scripts\\python.exe -m pip install --upgrade pip' command.\n"
     ]
    },
    {
     "name": "stdout",
     "output_type": "stream",
     "text": [
      "Requirement already satisfied: spacy in d:\\repos\\scrapingtwitter\\venv\\lib\\site-packages (3.3.1)\n",
      "Requirement already satisfied: spacy-loggers<2.0.0,>=1.0.0 in d:\\repos\\scrapingtwitter\\venv\\lib\\site-packages (from spacy) (1.0.2)\n",
      "Requirement already satisfied: blis<0.8.0,>=0.4.0 in d:\\repos\\scrapingtwitter\\venv\\lib\\site-packages (from spacy) (0.7.7)\n",
      "Requirement already satisfied: spacy-legacy<3.1.0,>=3.0.9 in d:\\repos\\scrapingtwitter\\venv\\lib\\site-packages (from spacy) (3.0.9)\n",
      "Requirement already satisfied: typer<0.5.0,>=0.3.0 in d:\\repos\\scrapingtwitter\\venv\\lib\\site-packages (from spacy) (0.4.1)\n",
      "Requirement already satisfied: wasabi<1.1.0,>=0.9.1 in d:\\repos\\scrapingtwitter\\venv\\lib\\site-packages (from spacy) (0.9.1)\n",
      "Requirement already satisfied: preshed<3.1.0,>=3.0.2 in d:\\repos\\scrapingtwitter\\venv\\lib\\site-packages (from spacy) (3.0.6)\n",
      "Requirement already satisfied: srsly<3.0.0,>=2.4.3 in d:\\repos\\scrapingtwitter\\venv\\lib\\site-packages (from spacy) (2.4.3)\n",
      "Requirement already satisfied: tqdm<5.0.0,>=4.38.0 in d:\\repos\\scrapingtwitter\\venv\\lib\\site-packages (from spacy) (4.64.0)\n",
      "Requirement already satisfied: thinc<8.1.0,>=8.0.14 in d:\\repos\\scrapingtwitter\\venv\\lib\\site-packages (from spacy) (8.0.17)\n",
      "Requirement already satisfied: langcodes<4.0.0,>=3.2.0 in d:\\repos\\scrapingtwitter\\venv\\lib\\site-packages (from spacy) (3.3.0)\n",
      "Requirement already satisfied: setuptools in d:\\repos\\scrapingtwitter\\venv\\lib\\site-packages (from spacy) (58.1.0)\n",
      "Requirement already satisfied: pydantic!=1.8,!=1.8.1,<1.9.0,>=1.7.4 in d:\\repos\\scrapingtwitter\\venv\\lib\\site-packages (from spacy) (1.8.2)\n",
      "Requirement already satisfied: numpy>=1.15.0 in d:\\repos\\scrapingtwitter\\venv\\lib\\site-packages (from spacy) (1.22.4)\n",
      "Requirement already satisfied: requests<3.0.0,>=2.13.0 in d:\\repos\\scrapingtwitter\\venv\\lib\\site-packages (from spacy) (2.28.0)\n",
      "Requirement already satisfied: jinja2 in d:\\repos\\scrapingtwitter\\venv\\lib\\site-packages (from spacy) (3.1.2)\n",
      "Requirement already satisfied: murmurhash<1.1.0,>=0.28.0 in d:\\repos\\scrapingtwitter\\venv\\lib\\site-packages (from spacy) (1.0.7)\n",
      "Requirement already satisfied: pathy>=0.3.5 in d:\\repos\\scrapingtwitter\\venv\\lib\\site-packages (from spacy) (0.6.1)\n",
      "Requirement already satisfied: packaging>=20.0 in d:\\repos\\scrapingtwitter\\venv\\lib\\site-packages (from spacy) (21.3)\n",
      "Requirement already satisfied: catalogue<2.1.0,>=2.0.6 in d:\\repos\\scrapingtwitter\\venv\\lib\\site-packages (from spacy) (2.0.7)\n",
      "Requirement already satisfied: cymem<2.1.0,>=2.0.2 in d:\\repos\\scrapingtwitter\\venv\\lib\\site-packages (from spacy) (2.0.6)\n",
      "Requirement already satisfied: pyparsing!=3.0.5,>=2.0.2 in d:\\repos\\scrapingtwitter\\venv\\lib\\site-packages (from packaging>=20.0->spacy) (3.0.9)\n",
      "Requirement already satisfied: smart-open<6.0.0,>=5.0.0 in d:\\repos\\scrapingtwitter\\venv\\lib\\site-packages (from pathy>=0.3.5->spacy) (5.2.1)\n",
      "Requirement already satisfied: typing-extensions>=3.7.4.3 in d:\\repos\\scrapingtwitter\\venv\\lib\\site-packages (from pydantic!=1.8,!=1.8.1,<1.9.0,>=1.7.4->spacy) (4.2.0)\n",
      "Requirement already satisfied: urllib3<1.27,>=1.21.1 in d:\\repos\\scrapingtwitter\\venv\\lib\\site-packages (from requests<3.0.0,>=2.13.0->spacy) (1.26.9)\n",
      "Requirement already satisfied: idna<4,>=2.5 in d:\\repos\\scrapingtwitter\\venv\\lib\\site-packages (from requests<3.0.0,>=2.13.0->spacy) (3.3)\n",
      "Requirement already satisfied: certifi>=2017.4.17 in d:\\repos\\scrapingtwitter\\venv\\lib\\site-packages (from requests<3.0.0,>=2.13.0->spacy) (2022.5.18.1)\n",
      "Requirement already satisfied: charset-normalizer~=2.0.0 in d:\\repos\\scrapingtwitter\\venv\\lib\\site-packages (from requests<3.0.0,>=2.13.0->spacy) (2.0.12)\n",
      "Requirement already satisfied: colorama in d:\\repos\\scrapingtwitter\\venv\\lib\\site-packages (from tqdm<5.0.0,>=4.38.0->spacy) (0.4.4)\n",
      "Requirement already satisfied: click<9.0.0,>=7.1.1 in d:\\repos\\scrapingtwitter\\venv\\lib\\site-packages (from typer<0.5.0,>=0.3.0->spacy) (8.1.3)\n",
      "Requirement already satisfied: MarkupSafe>=2.0 in d:\\repos\\scrapingtwitter\\venv\\lib\\site-packages (from jinja2->spacy) (2.1.1)\n",
      "Note: you may need to restart the kernel to use updated packages.\n"
     ]
    },
    {
     "name": "stderr",
     "output_type": "stream",
     "text": [
      "WARNING: You are using pip version 22.0.4; however, version 22.1.2 is available.\n",
      "You should consider upgrading via the 'd:\\Repos\\scrapingTwitter\\venv\\Scripts\\python.exe -m pip install --upgrade pip' command.\n"
     ]
    },
    {
     "name": "stdout",
     "output_type": "stream",
     "text": [
      "Requirement already satisfied: scikit-learn in d:\\repos\\scrapingtwitter\\venv\\lib\\site-packages (1.1.1)\n",
      "Requirement already satisfied: numpy>=1.17.3 in d:\\repos\\scrapingtwitter\\venv\\lib\\site-packages (from scikit-learn) (1.22.4)\n",
      "Requirement already satisfied: threadpoolctl>=2.0.0 in d:\\repos\\scrapingtwitter\\venv\\lib\\site-packages (from scikit-learn) (3.1.0)\n",
      "Requirement already satisfied: scipy>=1.3.2 in d:\\repos\\scrapingtwitter\\venv\\lib\\site-packages (from scikit-learn) (1.8.1)\n",
      "Requirement already satisfied: joblib>=1.0.0 in d:\\repos\\scrapingtwitter\\venv\\lib\\site-packages (from scikit-learn) (1.1.0)\n",
      "Note: you may need to restart the kernel to use updated packages.\n"
     ]
    },
    {
     "name": "stderr",
     "output_type": "stream",
     "text": [
      "WARNING: You are using pip version 22.0.4; however, version 22.1.2 is available.\n",
      "You should consider upgrading via the 'd:\\Repos\\scrapingTwitter\\venv\\Scripts\\python.exe -m pip install --upgrade pip' command.\n"
     ]
    },
    {
     "name": "stdout",
     "output_type": "stream",
     "text": [
      "Requirement already satisfied: matplotlib in d:\\repos\\scrapingtwitter\\venv\\lib\\site-packages (3.5.2)\n",
      "Requirement already satisfied: python-dateutil>=2.7 in d:\\repos\\scrapingtwitter\\venv\\lib\\site-packages (from matplotlib) (2.8.2)\n",
      "Requirement already satisfied: fonttools>=4.22.0 in d:\\repos\\scrapingtwitter\\venv\\lib\\site-packages (from matplotlib) (4.33.3)\n",
      "Requirement already satisfied: cycler>=0.10 in d:\\repos\\scrapingtwitter\\venv\\lib\\site-packages (from matplotlib) (0.11.0)\n",
      "Requirement already satisfied: pillow>=6.2.0 in d:\\repos\\scrapingtwitter\\venv\\lib\\site-packages (from matplotlib) (9.1.1)\n",
      "Requirement already satisfied: pyparsing>=2.2.1 in d:\\repos\\scrapingtwitter\\venv\\lib\\site-packages (from matplotlib) (3.0.9)\n",
      "Requirement already satisfied: packaging>=20.0 in d:\\repos\\scrapingtwitter\\venv\\lib\\site-packages (from matplotlib) (21.3)\n",
      "Requirement already satisfied: numpy>=1.17 in d:\\repos\\scrapingtwitter\\venv\\lib\\site-packages (from matplotlib) (1.22.4)\n",
      "Requirement already satisfied: kiwisolver>=1.0.1 in d:\\repos\\scrapingtwitter\\venv\\lib\\site-packages (from matplotlib) (1.4.2)\n",
      "Requirement already satisfied: six>=1.5 in d:\\repos\\scrapingtwitter\\venv\\lib\\site-packages (from python-dateutil>=2.7->matplotlib) (1.16.0)\n",
      "Note: you may need to restart the kernel to use updated packages.\n"
     ]
    },
    {
     "name": "stderr",
     "output_type": "stream",
     "text": [
      "WARNING: You are using pip version 22.0.4; however, version 22.1.2 is available.\n",
      "You should consider upgrading via the 'd:\\Repos\\scrapingTwitter\\venv\\Scripts\\python.exe -m pip install --upgrade pip' command.\n"
     ]
    },
    {
     "name": "stdout",
     "output_type": "stream",
     "text": [
      "Collecting clean-text\n",
      "  Downloading clean_text-0.6.0-py3-none-any.whl (11 kB)\n",
      "Collecting emoji<2.0.0,>=1.0.0\n",
      "  Downloading emoji-1.7.0.tar.gz (175 kB)\n",
      "     -------------------------------------- 175.4/175.4 KB 3.5 MB/s eta 0:00:00\n",
      "  Preparing metadata (setup.py): started\n",
      "  Preparing metadata (setup.py): finished with status 'done'\n",
      "Collecting ftfy<7.0,>=6.0\n",
      "  Downloading ftfy-6.1.1-py3-none-any.whl (53 kB)\n",
      "     ---------------------------------------- 53.1/53.1 KB ? eta 0:00:00\n",
      "Requirement already satisfied: wcwidth>=0.2.5 in d:\\repos\\scrapingtwitter\\venv\\lib\\site-packages (from ftfy<7.0,>=6.0->clean-text) (0.2.5)\n",
      "Using legacy 'setup.py install' for emoji, since package 'wheel' is not installed.\n",
      "Installing collected packages: emoji, ftfy, clean-text\n",
      "  Running setup.py install for emoji: started\n",
      "  Running setup.py install for emoji: finished with status 'done'\n",
      "Successfully installed clean-text-0.6.0 emoji-1.7.0 ftfy-6.1.1\n",
      "Note: you may need to restart the kernel to use updated packages.\n"
     ]
    },
    {
     "name": "stderr",
     "output_type": "stream",
     "text": [
      "WARNING: You are using pip version 22.0.4; however, version 22.1.2 is available.\n",
      "You should consider upgrading via the 'd:\\Repos\\scrapingTwitter\\venv\\Scripts\\python.exe -m pip install --upgrade pip' command.\n"
     ]
    }
   ],
   "source": [
    "%pip install numpy\n",
    "%pip install pandas\n",
    "%pip install spacy\n",
    "%pip install scikit-learn\n",
    "%pip install matplotlib\n",
    "%pip install clean-text"
   ]
  },
  {
   "cell_type": "code",
   "execution_count": 1,
   "metadata": {},
   "outputs": [],
   "source": [
    "import sys\n",
    "sys.path.append(\"../\")"
   ]
  },
  {
   "cell_type": "code",
   "execution_count": 2,
   "metadata": {},
   "outputs": [],
   "source": [
    "import numpy as np\n",
    "import pandas as pd\n",
    "import spacy\n",
    "import matplotlib.pyplot\n",
    "from sklearn.model_selection import train_test_split\n",
    "from sklearn.svm import LinearSVC\n",
    "from sklearn.pipeline import Pipeline\n",
    "from sklearn.feature_extraction.text import TfidfVectorizer\n",
    "from sklearn.metrics import confusion_matrix\n",
    "from sklearn.metrics import classification_report\n",
    "from sklearn import metrics\n",
    "from mongoengine import connect\n",
    "from Mongo.MongoActions import MongoActions\n",
    "from sklearn.naive_bayes import GaussianNB\n",
    "from sklearn.tree import DecisionTreeClassifier\n",
    "from sklearn.ensemble import RandomForestClassifier"
   ]
  },
  {
   "cell_type": "code",
   "execution_count": 3,
   "metadata": {},
   "outputs": [],
   "source": [
    "nlp = spacy.load('pt_core_news_lg')\n",
    "b5PostDf = pd.read_csv('b5corpus/post-utf8-singleFile.csv', on_bad_lines='skip', sep=';')\n",
    "types = ['ext', 'agr', 'con', 'neu', 'ope']\n",
    "perLabelsData = {}\n",
    "\n",
    "lowerString = [entry.lower() for entry in b5PostDf['string']]\n",
    "X = lowerString "
   ]
  },
  {
   "cell_type": "code",
   "execution_count": null,
   "metadata": {},
   "outputs": [],
   "source": [
    "\n",
    "lemmaString = {'string':[]}\n",
    "\n",
    "for sentence in lowerString:\n",
    "  doc = nlp(sentence)\n",
    "  newSentence = ''\n",
    "  for word in doc:\n",
    "    if word.text not in nlp.Defaults.stop_words:\n",
    "      newSentence += \" \"+word.lemma_\n",
    "  lemmaString['string'].append(newSentence)\n",
    "  \n",
    "df = pd.DataFrame(lemmaString)    \n",
    "df.to_csv('lemma_str', index=False)\n",
    "X = lemmaString['string']"
   ]
  },
  {
   "cell_type": "code",
   "execution_count": 4,
   "metadata": {},
   "outputs": [],
   "source": [
    "perPredictorsSvm = {}\n",
    "tfidf = TfidfVectorizer()\n",
    "\n",
    "for per in types:\n",
    "    perLabelsData[per] = b5PostDf[per]"
   ]
  },
  {
   "cell_type": "code",
   "execution_count": 5,
   "metadata": {},
   "outputs": [
    {
     "name": "stdout",
     "output_type": "stream",
     "text": [
      "for ext\n",
      "[[10943 15114]\n",
      " [ 9690 21487]]\n",
      "              precision    recall  f1-score   support\n",
      "\n",
      "         no        0.53      0.42      0.47     26057\n",
      "        yes        0.59      0.69      0.63     31177\n",
      "\n",
      "    accuracy                           0.57     57234\n",
      "   macro avg       0.56      0.55      0.55     57234\n",
      "weighted avg       0.56      0.57      0.56     57234\n",
      "\n",
      "for agr\n",
      "[[13067 14379]\n",
      " [11116 18672]]\n",
      "              precision    recall  f1-score   support\n",
      "\n",
      "         no        0.54      0.48      0.51     27446\n",
      "        yes        0.56      0.63      0.59     29788\n",
      "\n",
      "    accuracy                           0.55     57234\n",
      "   macro avg       0.55      0.55      0.55     57234\n",
      "weighted avg       0.55      0.55      0.55     57234\n",
      "\n",
      "for con\n",
      "[[16942 12018]\n",
      " [12641 15633]]\n",
      "              precision    recall  f1-score   support\n",
      "\n",
      "         no        0.57      0.59      0.58     28960\n",
      "        yes        0.57      0.55      0.56     28274\n",
      "\n",
      "    accuracy                           0.57     57234\n",
      "   macro avg       0.57      0.57      0.57     57234\n",
      "weighted avg       0.57      0.57      0.57     57234\n",
      "\n",
      "for neu\n",
      "[[ 9254 15826]\n",
      " [ 9034 23120]]\n",
      "              precision    recall  f1-score   support\n",
      "\n",
      "         no        0.51      0.37      0.43     25080\n",
      "        yes        0.59      0.72      0.65     32154\n",
      "\n",
      "    accuracy                           0.57     57234\n",
      "   macro avg       0.55      0.54      0.54     57234\n",
      "weighted avg       0.56      0.57      0.55     57234\n",
      "\n",
      "for ope\n",
      "[[11361 14806]\n",
      " [10434 20633]]\n",
      "              precision    recall  f1-score   support\n",
      "\n",
      "         no        0.52      0.43      0.47     26167\n",
      "        yes        0.58      0.66      0.62     31067\n",
      "\n",
      "    accuracy                           0.56     57234\n",
      "   macro avg       0.55      0.55      0.55     57234\n",
      "weighted avg       0.55      0.56      0.55     57234\n",
      "\n"
     ]
    }
   ],
   "source": [
    "\n",
    "perPredictorsSvm = {}\n",
    "\n",
    "for per in types:\n",
    "    perLabelsData[per] = b5PostDf[per]\n",
    "    \n",
    "for per in types:\n",
    "    #building pipeline\n",
    "    print(\"for \"+per)\n",
    "    X_train, X_test , y_train, y_test =  train_test_split(X, perLabelsData[per], test_size=0.3, random_state=10)\n",
    "    perPredictorsSvm[per] = Pipeline([('tfidf', TfidfVectorizer()), ('clf', LinearSVC())])\n",
    "    perPredictorsSvm[per].fit(X_train, y_train)\n",
    "    predict = perPredictorsSvm[per].predict(X_test)\n",
    "    print(confusion_matrix(y_test, predict))\n",
    "    print(classification_report(y_test, predict))\n",
    "\n"
   ]
  },
  {
   "cell_type": "code",
   "execution_count": 6,
   "metadata": {},
   "outputs": [],
   "source": [
    "def add_value_label(x_list,y_list):\n",
    "    for i in range(1, len(x_list)+1):\n",
    "        plt.text(i,y_list[i-1],y_list[i-1])"
   ]
  },
  {
   "cell_type": "code",
   "execution_count": 7,
   "metadata": {},
   "outputs": [],
   "source": [
    "fakeUsersTweets = pd.read_csv('../userTweetsFakeClean_str.csv')\n",
    "perQtd = {}\n",
    "pre = fakeUsersTweets['string']\n",
    "width = 1.0 \n",
    "for t in types:\n",
    "    perQtd[t] = 0\n",
    "    \n",
    "for per in types:\n",
    "    for string in pre:\n",
    "        if('yes' in perPredictorsSvm[per].predict([str(string)])[0]):\n",
    "            perQtd[per]+=1\n",
    "            \n",
    "\n",
    "        "
   ]
  },
  {
   "cell_type": "code",
   "execution_count": 8,
   "metadata": {},
   "outputs": [
    {
     "data": {
      "image/png": "[encoded data removed]",
      "text/plain": [
       "<Figure size 432x288 with 1 Axes>"
      ]
     },
     "metadata": {
      "needs_background": "light"
     },
     "output_type": "display_data"
    }
   ],
   "source": [
    "matplotlib.pyplot.bar(perQtd.keys(), perQtd.values(), width, color='g')\n",
    "xlocs = range(1,6)\n",
    "for i, v in enumerate(perQtd.values()):\n",
    "     matplotlib.pyplot.text(xlocs[i] - 1, v + 0.5, str(v))"
   ]
  },
  {
   "cell_type": "code",
   "execution_count": 9,
   "metadata": {},
   "outputs": [],
   "source": [
    "fakeUsersTweets = pd.read_csv('../userTweetsTrueClean_str.csv')\n",
    "perQtd = {}\n",
    "pre = fakeUsersTweets['string']\n",
    "width = 1.0 \n",
    "for t in types:\n",
    "    perQtd[t] = 0\n",
    "    \n",
    "for per in types:\n",
    "    for string in pre:\n",
    "        if('yes' in perPredictorsSvm[per].predict([str(string)])[0]):\n",
    "            perQtd[per]+=1\n",
    "            "
   ]
  },
  {
   "cell_type": "code",
   "execution_count": 10,
   "metadata": {},
   "outputs": [
    {
     "data": {
      "image/png": "[encoded data removed]",
      "text/plain": [
       "<Figure size 432x288 with 1 Axes>"
      ]
     },
     "metadata": {
      "needs_background": "light"
     },
     "output_type": "display_data"
    }
   ],
   "source": [
    "matplotlib.pyplot.bar(perQtd.keys(), perQtd.values(), width, color='g')\n",
    "xlocs = range(1,6)\n",
    "for i, v in enumerate(perQtd.values()):\n",
    "     matplotlib.pyplot.text(xlocs[i] - 1, v + 0.5, str(v))"
   ]
  },
  {
   "cell_type": "code",
   "execution_count": 11,
   "metadata": {},
   "outputs": [],
   "source": [
    "fakeUsersTweets = pd.read_csv('../userTweetsFakeClean_str.csv')\n",
    "trueUsersTweets = pd.read_csv('../userTweetsTrueClean_str.csv')\n",
    "personalityVector = {'ext':[], 'agr':[], 'con':[],'neu':[], 'ope':[], 'fake':[]} #agr;con;neu;ope;\n",
    "preFake = fakeUsersTweets['string']\n",
    "preTrue = fakeUsersTweets['string']\n",
    "    \n",
    "for string in preFake:    \n",
    "    for per in types:\n",
    "        if('yes' in perPredictorsSvm[per].predict([str(string)])[0]):\n",
    "            personalityVector[per].append(1)\n",
    "        else:\n",
    "            personalityVector[per].append(0)\n",
    "    \n",
    "    personalityVector['fake'].append(1)\n",
    "\n",
    "for string in preTrue:    \n",
    "    for per in types:\n",
    "        if('yes' in perPredictorsSvm[per].predict([str(string)])[0]):\n",
    "            personalityVector[per].append(1)\n",
    "        else:\n",
    "            personalityVector[per].append(0)\n",
    "    \n",
    "    personalityVector['fake'].append(0)\n",
    "    \n",
    "df = pd.DataFrame(personalityVector)\n",
    "df.to_csv('personality_Vector', index=False)\n",
    "\n",
    "\n",
    "            "
   ]
  },
  {
   "cell_type": "code",
   "execution_count": 12,
   "metadata": {},
   "outputs": [
    {
     "data": {
      "text/html": [
       "<div>\n",
       "<style scoped>\n",
       "    .dataframe tbody tr th:only-of-type {\n",
       "        vertical-align: middle;\n",
       "    }\n",
       "\n",
       "    .dataframe tbody tr th {\n",
       "        vertical-align: top;\n",
       "    }\n",
       "\n",
       "    .dataframe thead th {\n",
       "        text-align: right;\n",
       "    }\n",
       "</style>\n",
       "<table border=\"1\" class=\"dataframe\">\n",
       "  <thead>\n",
       "    <tr style=\"text-align: right;\">\n",
       "      <th></th>\n",
       "      <th>ext</th>\n",
       "      <th>agr</th>\n",
       "      <th>con</th>\n",
       "      <th>neu</th>\n",
       "      <th>ope</th>\n",
       "      <th>fake</th>\n",
       "    </tr>\n",
       "  </thead>\n",
       "  <tbody>\n",
       "    <tr>\n",
       "      <th>0</th>\n",
       "      <td>1</td>\n",
       "      <td>1</td>\n",
       "      <td>1</td>\n",
       "      <td>1</td>\n",
       "      <td>0</td>\n",
       "      <td>1</td>\n",
       "    </tr>\n",
       "    <tr>\n",
       "      <th>1</th>\n",
       "      <td>0</td>\n",
       "      <td>0</td>\n",
       "      <td>1</td>\n",
       "      <td>0</td>\n",
       "      <td>1</td>\n",
       "      <td>1</td>\n",
       "    </tr>\n",
       "    <tr>\n",
       "      <th>2</th>\n",
       "      <td>0</td>\n",
       "      <td>0</td>\n",
       "      <td>0</td>\n",
       "      <td>0</td>\n",
       "      <td>1</td>\n",
       "      <td>1</td>\n",
       "    </tr>\n",
       "    <tr>\n",
       "      <th>3</th>\n",
       "      <td>0</td>\n",
       "      <td>0</td>\n",
       "      <td>0</td>\n",
       "      <td>1</td>\n",
       "      <td>1</td>\n",
       "      <td>1</td>\n",
       "    </tr>\n",
       "    <tr>\n",
       "      <th>4</th>\n",
       "      <td>1</td>\n",
       "      <td>1</td>\n",
       "      <td>0</td>\n",
       "      <td>0</td>\n",
       "      <td>1</td>\n",
       "      <td>1</td>\n",
       "    </tr>\n",
       "  </tbody>\n",
       "</table>\n",
       "</div>"
      ],
      "text/plain": [
       "   ext  agr  con  neu  ope  fake\n",
       "0    1    1    1    1    0     1\n",
       "1    0    0    1    0    1     1\n",
       "2    0    0    0    0    1     1\n",
       "3    0    0    0    1    1     1\n",
       "4    1    1    0    0    1     1"
      ]
     },
     "execution_count": 12,
     "metadata": {},
     "output_type": "execute_result"
    }
   ],
   "source": [
    "personaVectorDf = pd.read_csv('../personality_bin_vector.csv')\n",
    "personaVectorDf.head()"
   ]
  },
  {
   "cell_type": "code",
   "execution_count": 13,
   "metadata": {},
   "outputs": [
    {
     "name": "stdout",
     "output_type": "stream",
     "text": [
      "Accuracy: 0.46932409012131715\n",
      "[[684 763]\n",
      " [768 670]]\n",
      "              precision    recall  f1-score   support\n",
      "\n",
      "           0       0.47      0.47      0.47      1447\n",
      "           1       0.47      0.47      0.47      1438\n",
      "\n",
      "    accuracy                           0.47      2885\n",
      "   macro avg       0.47      0.47      0.47      2885\n",
      "weighted avg       0.47      0.47      0.47      2885\n",
      "\n"
     ]
    }
   ],
   "source": [
    "X = personaVectorDf[types]\n",
    "y = personaVectorDf.fake\n",
    "X_train, X_test, y_train, y_test = train_test_split(X, y, test_size=0.3, random_state=1)\n",
    "tree = DecisionTreeClassifier(criterion=\"entropy\", max_depth=100)\n",
    "tree = tree.fit(X_train,y_train)\n",
    "\n",
    "y_pred = tree.predict(X_test)\n",
    "\n",
    "print(\"Accuracy:\",metrics.accuracy_score(y_test, y_pred))\n",
    "\n",
    "print(confusion_matrix(y_test, y_pred))\n",
    "print(classification_report(y_test, y_pred))"
   ]
  },
  {
   "cell_type": "code",
   "execution_count": 14,
   "metadata": {},
   "outputs": [
    {
     "name": "stdout",
     "output_type": "stream",
     "text": [
      "Accuracy: 0.48873483535528595\n"
     ]
    }
   ],
   "source": [
    "svm2 = LinearSVC()\n",
    "svm2 = svm2.fit(X_train,y_train)\n",
    "\n",
    "y_pred = svm2.predict(X_test)\n",
    "\n",
    "print(\"Accuracy:\",metrics.accuracy_score(y_test, y_pred))\n"
   ]
  },
  {
   "cell_type": "code",
   "execution_count": 15,
   "metadata": {},
   "outputs": [
    {
     "name": "stdout",
     "output_type": "stream",
     "text": [
      "Accuracy: 0.46932409012131715\n",
      "[[670 777]\n",
      " [754 684]]\n",
      "              precision    recall  f1-score   support\n",
      "\n",
      "           0       0.47      0.46      0.47      1447\n",
      "           1       0.47      0.48      0.47      1438\n",
      "\n",
      "    accuracy                           0.47      2885\n",
      "   macro avg       0.47      0.47      0.47      2885\n",
      "weighted avg       0.47      0.47      0.47      2885\n",
      "\n"
     ]
    }
   ],
   "source": [
    "forest = RandomForestClassifier()\n",
    "forest = forest.fit(X_train,y_train)\n",
    "\n",
    "y_pred = forest.predict(X_test)\n",
    "\n",
    "print(\"Accuracy:\",metrics.accuracy_score(y_test, y_pred))\n",
    "print(confusion_matrix(y_test, y_pred))\n",
    "print(classification_report(y_test, y_pred))"
   ]
  },
  {
   "cell_type": "code",
   "execution_count": 5,
   "metadata": {},
   "outputs": [],
   "source": [
    "\n",
    "from cleantext import clean\n",
    "import re\n",
    "\n",
    "def normalize(comment, lowercase, remove_stopwords):\n",
    "    stops = nlp.Defaults.stop_words\n",
    "    if lowercase:\n",
    "        comment = comment.lower()\n",
    "    #remove emojis\n",
    "    comment = comment.encode('ascii', 'ignore').decode('ascii')\n",
    "    comment = nlp(comment)\n",
    "    lemmatized = list()\n",
    "    \n",
    "    for word in comment:\n",
    "        if not word.like_url:\n",
    "            lemma = word.lower_.strip()\n",
    "            if lemma:\n",
    "                if not remove_stopwords or (remove_stopwords and lemma not in stops):\n",
    "                    if not (\"@\" in lemma) and not (\"#\" in lemma) and not (\"https:/\" in lemma):                        \n",
    "                        lemmatized.append(lemma)\n",
    "    return \" \".join(lemmatized)\n",
    "\n",
    "empty = list()\n",
    "Data = pd.read_csv('../userTweetsFake_str.csv', on_bad_lines='skip')\n",
    "\n",
    "userTweetsDic = {'string':[]}\n",
    "\n",
    "for string in Data['string']:\n",
    "    if(isinstance(string, str)):\n",
    "        try: \n",
    "            \n",
    "            userTweetsDic['string'].append(normalize(string, False, True))                   \n",
    "        except:\n",
    "            print(\"failed in:\\n \"+string)\n",
    "df = pd.DataFrame(userTweetsDic)\n",
    "df.to_csv('userTweetsFakeClean_str', index=False)\n",
    "\n",
    "# stopwords = nlp.Defaults.stop_words\n",
    "# Data = pd.read_csv('../userTweetsFake_str.csv', on_bad_lines='skip')\n",
    "# cleaning = Data['string'].apply(normalize, lowercase=False, remove_stopwords=True)\n",
    "# cleaning"
   ]
  },
  {
   "cell_type": "code",
   "execution_count": null,
   "metadata": {},
   "outputs": [],
   "source": [
    "fake_users = pd.read_csv('../usersFake_str.csv', on_bad_lines='skip', sep=',')\n",
    "true_users = pd.read_csv('../usersTru_str.csv', on_bad_lines='skip', sep=',')\n",
    "\n",
    "true_users.head()"
   ]
  },
  {
   "cell_type": "code",
   "execution_count": 45,
   "metadata": {},
   "outputs": [
    {
     "data": {
      "image/png": "[encoded data removed]",
      "text/plain": [
       "<Figure size 432x288 with 1 Axes>"
      ]
     },
     "metadata": {
      "needs_background": "light"
     },
     "output_type": "display_data"
    }
   ],
   "source": [
    "from pylab import *\n",
    "plt.xlabel('Quantidade de Seguidores', fontsize = 18, fontweight = 'bold')\n",
    "plt.ylabel('Usuários espalhadores de notícias legítimas', fontsize = 14, fontweight = 'bold')\n",
    "datadict = matplotlib.pyplot.boxplot(true_users['followers'], showfliers=False, vert=False)\n",
    "\n",
    "\n",
    "for line in datadict['medians']:\n",
    "    # get position data for median line\n",
    "    x, y = line.get_xydata()[1] # top of median line\n",
    "    # overlay median value\n",
    "    text(x, y, '%.1f' % x,horizontalalignment='center',fontsize = 15, fontweight = 'bold')\n",
    "\n",
    "for line in datadict['boxes']:\n",
    "    x, y = line.get_xydata()[0] # bottom of left line\n",
    "    text(x,y, '%.1f' % x,\n",
    "         horizontalalignment='center', # centered\n",
    "         verticalalignment='top', fontsize = 15, fontweight = 'bold')      # below\n",
    "    x, y = line.get_xydata()[3] # bottom of right line\n",
    "    text(x,y, '%.1f' % x,\n",
    "         horizontalalignment='center', # centered\n",
    "             verticalalignment='top', fontsize = 15, fontweight = 'bold')  \n",
    "    \n",
    "\n",
    "\n"
   ]
  },
  {
   "cell_type": "code",
   "execution_count": 48,
   "metadata": {},
   "outputs": [
    {
     "data": {
      "image/png": "[encoded data removed]",
      "text/plain": [
       "<Figure size 432x288 with 1 Axes>"
      ]
     },
     "metadata": {
      "needs_background": "light"
     },
     "output_type": "display_data"
    }
   ],
   "source": [
    "plt.xlabel('Quantidade de Seguidos', fontsize = 18, fontweight = 'bold')\n",
    "plt.ylabel('Usuários espalhadores de notícias legítimas', fontsize = 14, fontweight = 'bold')\n",
    "datadict = matplotlib.pyplot.boxplot(true_users['following'], showfliers=False, vert=False)\n",
    "\n",
    "\n",
    "for line in datadict['medians']:\n",
    "    # get position data for median line\n",
    "    x, y = line.get_xydata()[1] # top of median line\n",
    "    # overlay median value\n",
    "    text(x, y, '%.1f' % x,horizontalalignment='center',fontsize = 15, fontweight = 'bold')\n",
    "\n",
    "for line in datadict['boxes']:\n",
    "    x, y = line.get_xydata()[0] # bottom of left line\n",
    "    text(x,y, '%.1f' % x,\n",
    "         horizontalalignment='center', # centered\n",
    "         verticalalignment='top', fontsize = 15, fontweight = 'bold')      # below\n",
    "    x, y = line.get_xydata()[3] # bottom of right line\n",
    "    text(x,y, '%.1f' % x,\n",
    "         horizontalalignment='center', # centered\n",
    "             verticalalignment='top', fontsize = 15, fontweight = 'bold')   "
   ]
  },
  {
   "cell_type": "code",
   "execution_count": 49,
   "metadata": {},
   "outputs": [
    {
     "data": {
      "image/png": "[encoded data removed]",
      "text/plain": [
       "<Figure size 432x288 with 1 Axes>"
      ]
     },
     "metadata": {
      "needs_background": "light"
     },
     "output_type": "display_data"
    }
   ],
   "source": [
    "plt.xlabel('Quantidade de Seguidos', fontsize = 18, fontweight = 'bold')\n",
    "plt.ylabel('Usuários espalhadores de Fake News', fontsize = 15, fontweight = 'bold')\n",
    "datadict = matplotlib.pyplot.boxplot(fake_users['following'], showfliers=False, vert=False)\n",
    "\n",
    "\n",
    "for line in datadict['medians']:\n",
    "    # get position data for median line\n",
    "    x, y = line.get_xydata()[1] # top of median line\n",
    "    # overlay median value\n",
    "    text(x, y, '%.1f' % x,horizontalalignment='center',fontsize = 15, fontweight = 'bold')\n",
    "\n",
    "for line in datadict['boxes']:\n",
    "    x, y = line.get_xydata()[0] # bottom of left line\n",
    "    text(x,y, '%.1f' % x,\n",
    "         horizontalalignment='center', # centered\n",
    "         verticalalignment='top', fontsize = 15, fontweight = 'bold')      # below\n",
    "    x, y = line.get_xydata()[3] # bottom of right line\n",
    "    text(x,y, '%.1f' % x,\n",
    "         horizontalalignment='center', # centered\n",
    "             verticalalignment='top', fontsize = 15, fontweight = 'bold')  "
   ]
  },
  {
   "cell_type": "code",
   "execution_count": 50,
   "metadata": {},
   "outputs": [
    {
     "data": {
      "image/png": "[encoded data removed]",
      "text/plain": [
       "<Figure size 432x288 with 1 Axes>"
      ]
     },
     "metadata": {
      "needs_background": "light"
     },
     "output_type": "display_data"
    }
   ],
   "source": [
    "plt.xlabel('Quantidade de Seguidores', fontsize = 18, fontweight = 'bold')\n",
    "plt.ylabel('Usuários espalhadores de Fake News', fontsize = 15, fontweight = 'bold')\n",
    "datadict = matplotlib.pyplot.boxplot(fake_users['followers'], showfliers=False, vert=False)\n",
    "\n",
    "\n",
    "for line in datadict['medians']:\n",
    "    # get position data for median line\n",
    "    x, y = line.get_xydata()[1] # top of median line\n",
    "    # overlay median value\n",
    "    text(x, y, '%.1f' % x,horizontalalignment='center',fontsize = 15, fontweight = 'bold')\n",
    "\n",
    "for line in datadict['boxes']:\n",
    "    x, y = line.get_xydata()[0] # bottom of left line\n",
    "    text(x,y, '%.1f' % x,\n",
    "         horizontalalignment='center', # centered\n",
    "         verticalalignment='top', fontsize = 15, fontweight = 'bold')      # below\n",
    "    x, y = line.get_xydata()[3] # bottom of right line\n",
    "    text(x,y, '%.1f' % x,\n",
    "         horizontalalignment='center', # centered\n",
    "             verticalalignment='top', fontsize = 15, fontweight = 'bold')  "
   ]
  }
 ],
 "metadata": {
  "interpreter": {
   "hash": "72fa5b748b1986f462246d640fb3ef5fa1ac104a0b5e187cae256328883b62af"
  },
  "kernelspec": {
   "display_name": "Python 3.9.12 64-bit ('anaconda3')",
   "language": "python",
   "name": "python3"
  },
  "language_info": {
   "codemirror_mode": {
    "name": "ipython",
    "version": 3
   },
   "file_extension": ".py",
   "mimetype": "text/x-python",
   "name": "python",
   "nbconvert_exporter": "python",
   "pygments_lexer": "ipython3",
   "version": "3.10.4"
  },
  "orig_nbformat": 4
 },
 "nbformat": 4,
 "nbformat_minor": 2
}
